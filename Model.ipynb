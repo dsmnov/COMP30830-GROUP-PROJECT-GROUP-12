{
 "cells": [
  {
   "cell_type": "markdown",
   "id": "324b828d-b19a-42fc-906c-451682ace8bd",
   "metadata": {},
   "source": [
    "### IMPORTING NECESSARY LIBRARIES"
   ]
  },
  {
   "cell_type": "code",
   "execution_count": 134,
   "id": "b3b48a5b-a435-4ca4-99d0-fa6cb01d9d86",
   "metadata": {},
   "outputs": [],
   "source": [
    "import pandas as pd\n",
    "import numpy as np\n",
    "from sklearn.model_selection import train_test_split\n",
    "from sklearn.linear_model import LinearRegression\n",
    "from sklearn.ensemble import RandomForestRegressor\n",
    "from sklearn.metrics import mean_absolute_error, r2_score\n",
    "import matplotlib as plt\n",
    "import joblib\n",
    "import pickle"
   ]
  },
  {
   "cell_type": "code",
   "execution_count": 136,
   "id": "0c79bacb-e6ed-449a-9242-5e3bd1f21e26",
   "metadata": {},
   "outputs": [],
   "source": [
    "df=pd.read_csv(\"final_merged_data.csv\")"
   ]
  },
  {
   "cell_type": "code",
   "execution_count": 5,
   "id": "67f87501-0e85-42c5-8208-c9abc9cc198d",
   "metadata": {},
   "outputs": [
    {
     "name": "stdout",
     "output_type": "stream",
     "text": [
      "<class 'pandas.core.frame.DataFrame'>\n",
      "RangeIndex: 298946 entries, 0 to 298945\n",
      "Data columns (total 78 columns):\n",
      " #   Column                                  Non-Null Count   Dtype  \n",
      "---  ------                                  --------------   -----  \n",
      " 0   last_reported                           298946 non-null  object \n",
      " 1   station_id                              298946 non-null  int64  \n",
      " 2   num_bikes_available                     298946 non-null  int64  \n",
      " 3   num_docks_available                     298946 non-null  int64  \n",
      " 4   is_installed                            298946 non-null  bool   \n",
      " 5   is_renting                              298946 non-null  bool   \n",
      " 6   is_returning                            298946 non-null  bool   \n",
      " 7   name                                    298946 non-null  object \n",
      " 8   address                                 298946 non-null  object \n",
      " 9   lat                                     298946 non-null  float64\n",
      " 10  lon                                     298946 non-null  float64\n",
      " 11  capacity                                298946 non-null  int64  \n",
      " 12  stno                                    298946 non-null  int64  \n",
      " 13  year                                    298946 non-null  int64  \n",
      " 14  month                                   298946 non-null  int64  \n",
      " 15  day                                     298946 non-null  int64  \n",
      " 16  hour                                    298946 non-null  int64  \n",
      " 17  minute                                  298946 non-null  int64  \n",
      " 18  max_air_temp_quality_indicator          298946 non-null  int64  \n",
      " 19  max_air_temperature_celsius             298946 non-null  float64\n",
      " 20  min_air_temp_quality_indicator          298946 non-null  int64  \n",
      " 21  min_air_temperature_celsius             298946 non-null  float64\n",
      " 22  air_temp_std_quality_indicator          298946 non-null  int64  \n",
      " 23  air_temperature_std_deviation           298946 non-null  float64\n",
      " 24  max_grass_temp_quality_indicator        298946 non-null  int64  \n",
      " 25  max_grass_temperature_celsius           298946 non-null  float64\n",
      " 26  min_grass_temp_quality_indicator        298946 non-null  int64  \n",
      " 27  min_grass_temperature_celsius           298946 non-null  float64\n",
      " 28  grass_temp_std_quality_indicator        298946 non-null  int64  \n",
      " 29  grass_temperature_std_deviation         298946 non-null  float64\n",
      " 30  max_soil_temp_5cm_quality_indicator     298946 non-null  int64  \n",
      " 31  max_soil_temperature_5cm_celsius        298946 non-null  float64\n",
      " 32  min_soil_temp_5cm_quality_indicator     298946 non-null  int64  \n",
      " 33  min_soil_temperature_5cm_celsius        298946 non-null  float64\n",
      " 34  soil_temp_std_5cm_quality_indicator     298946 non-null  int64  \n",
      " 35  soil_temperature_std_deviation_5cm      298946 non-null  float64\n",
      " 36  max_soil_temp_10cm_quality_indicator    298946 non-null  int64  \n",
      " 37  max_soil_temperature_10cm_celsius       298946 non-null  float64\n",
      " 38  min_soil_temp_10cm_quality_indicator    298946 non-null  int64  \n",
      " 39  min_soil_temperature_10cm_celsius       298946 non-null  float64\n",
      " 40  soil_temp_std_10cm_quality_indicator    298946 non-null  int64  \n",
      " 41  soil_temperature_std_deviation_10cm     298946 non-null  float64\n",
      " 42  max_soil_temp_20cm_quality_indicator    298946 non-null  int64  \n",
      " 43  max_soil_temperature_20cm_celsius       298946 non-null  float64\n",
      " 44  min_soil_temp_20cm_quality_indicator    298946 non-null  int64  \n",
      " 45  min_soil_temperature_20cm_celsius       298946 non-null  float64\n",
      " 46  soil_temp_std_20cm_quality_indicator    298946 non-null  int64  \n",
      " 47  soil_temperature_std_deviation_20cm     298946 non-null  float64\n",
      " 48  max_earth_temp_30cm_quality_indicator   298946 non-null  int64  \n",
      " 49  max_earth_temperature_30cm_celsius      298946 non-null  float64\n",
      " 50  min_earth_temp_30cm_quality_indicator   298946 non-null  int64  \n",
      " 51  min_earth_temperature_30cm_celsius      298946 non-null  float64\n",
      " 52  earth_temp_std_30cm_quality_indicator   298946 non-null  int64  \n",
      " 53  earth_temperature_std_deviation_30cm    298946 non-null  float64\n",
      " 54  max_earth_temp_50cm_quality_indicator   298946 non-null  int64  \n",
      " 55  max_earth_temperature_50cm_celsius      298946 non-null  float64\n",
      " 56  min_earth_temp_50cm_quality_indicator   298946 non-null  int64  \n",
      " 57  min_earth_temperature_50cm_celsius      298946 non-null  float64\n",
      " 58  earth_temp_std_50cm_quality_indicator   298946 non-null  int64  \n",
      " 59  earth_temperature_std_deviation_50cm    298946 non-null  float64\n",
      " 60  max_earth_temp_100cm_quality_indicator  298946 non-null  int64  \n",
      " 61  max_earth_temperature_100cm_celsius     298946 non-null  float64\n",
      " 62  min_earth_temp_100cm_quality_indicator  298946 non-null  int64  \n",
      " 63  min_earth_temperature_100cm_celsius     298946 non-null  float64\n",
      " 64  earth_temp_std_100cm_quality_indicator  298946 non-null  int64  \n",
      " 65  earth_temperature_std_deviation_100cm   298946 non-null  float64\n",
      " 66  max_humidity_quality_indicator          298946 non-null  int64  \n",
      " 67  max_relative_humidity_percent           298946 non-null  float64\n",
      " 68  min_humidity_quality_indicator          298946 non-null  int64  \n",
      " 69  min_relative_humidity_percent           298946 non-null  float64\n",
      " 70  humidity_std_quality_indicator          298946 non-null  int64  \n",
      " 71  relative_humidity_std_deviation         298946 non-null  float64\n",
      " 72  max_pressure_quality_indicator          298946 non-null  int64  \n",
      " 73  max_barometric_pressure_hpa             298946 non-null  float64\n",
      " 74  min_pressure_quality_indicator          298946 non-null  int64  \n",
      " 75  min_barometric_pressure_hpa             298946 non-null  float64\n",
      " 76  pressure_std_quality_indicator          298946 non-null  int64  \n",
      " 77  barometric_pressure_std_deviation       298946 non-null  float64\n",
      "dtypes: bool(3), float64(32), int64(40), object(3)\n",
      "memory usage: 171.9+ MB\n"
     ]
    }
   ],
   "source": [
    "df.info()"
   ]
  },
  {
   "cell_type": "code",
   "execution_count": 138,
   "id": "f5dc5aeb-0e67-47c6-b77f-d6965f6407a4",
   "metadata": {},
   "outputs": [
    {
     "data": {
      "text/plain": [
       "(298946, 78)"
      ]
     },
     "execution_count": 138,
     "metadata": {},
     "output_type": "execute_result"
    }
   ],
   "source": [
    "df.shape"
   ]
  },
  {
   "cell_type": "markdown",
   "id": "a284553c-5caf-48eb-917a-f8e0af9e295a",
   "metadata": {},
   "source": [
    "### DATA PREPROCESSING"
   ]
  },
  {
   "cell_type": "markdown",
   "id": "d41b522e-55f6-43b3-b9d6-221421afee8e",
   "metadata": {},
   "source": [
    "#### Converting `station_id` as categorical type for the models below so that it is not treated as a numerical value"
   ]
  },
  {
   "cell_type": "code",
   "execution_count": 142,
   "id": "c4e1142d-2f4a-48cb-af7a-cd45c2b96477",
   "metadata": {},
   "outputs": [],
   "source": [
    "df['station_id']=df['station_id'].astype('category')"
   ]
  },
  {
   "cell_type": "markdown",
   "id": "189f6950-bf9d-463b-8f5f-41b291de5428",
   "metadata": {},
   "source": [
    "#### Checking the unique values of fields to analyze the cardinalities "
   ]
  },
  {
   "cell_type": "code",
   "execution_count": 192,
   "id": "0b19c427-9568-4c92-b5a7-381dd3af994b",
   "metadata": {},
   "outputs": [
    {
     "data": {
      "text/plain": [
       "[10, 100, 109, 11, 114, ..., 87, 92, 96, 99, 70]\n",
       "Length: 115\n",
       "Categories (115, int64): [1, 2, 3, 4, ..., 114, 115, 116, 117]"
      ]
     },
     "execution_count": 192,
     "metadata": {},
     "output_type": "execute_result"
    }
   ],
   "source": [
    "df['station_id'].unique()"
   ]
  },
  {
   "cell_type": "code",
   "execution_count": 147,
   "id": "4d310c24-012b-41ec-91d8-7f0b72a36e90",
   "metadata": {},
   "outputs": [
    {
     "data": {
      "text/plain": [
       "array([ 1,  2,  3,  4,  5,  6,  7,  8,  9, 10, 11, 12, 13, 14, 15, 16, 17,\n",
       "       18, 19, 20, 21, 22, 23, 24, 25, 26, 27, 28, 29, 30, 31],\n",
       "      dtype=int64)"
      ]
     },
     "execution_count": 147,
     "metadata": {},
     "output_type": "execute_result"
    }
   ],
   "source": [
    "df['day'].unique()\n"
   ]
  },
  {
   "cell_type": "code",
   "execution_count": 149,
   "id": "17c913b3-1503-4765-97a5-905c123a0a23",
   "metadata": {},
   "outputs": [
    {
     "data": {
      "text/plain": [
       "array([ 0,  1,  2,  3,  4,  5,  6,  7,  8,  9, 10, 11, 12, 13, 14, 15, 16,\n",
       "       17, 18, 19, 20, 21, 22, 23], dtype=int64)"
      ]
     },
     "execution_count": 149,
     "metadata": {},
     "output_type": "execute_result"
    }
   ],
   "source": [
    "df['hour'].unique()"
   ]
  },
  {
   "cell_type": "markdown",
   "id": "460a814a-830a-489a-91ac-71b662a62b53",
   "metadata": {},
   "source": [
    "#### Encoding the `hour` values as cyclic using sin and cos so that the model understands the 24-hour pattern"
   ]
  },
  {
   "cell_type": "code",
   "execution_count": 152,
   "id": "99bb6d52-119e-4cca-a69f-8e25c7e0cefe",
   "metadata": {},
   "outputs": [],
   "source": [
    "# https://harrisonpim.com/blog/the-best-way-to-encode-dates-times-and-other-cyclical-features\n",
    "df['Hour_sin'] = np.sin(2 * np.pi * df['hour'] / 23)\n",
    "df['Hour_cos'] = np.cos(2 * np.pi * df['hour'] / 23)"
   ]
  },
  {
   "cell_type": "markdown",
   "id": "21c7302f-6884-4f83-a6dc-efc506c7a56b",
   "metadata": {},
   "source": [
    "#### Referred from: https://saturncloud.io/blog/pandas-get-day-of-week-from-date-type-column/#2"
   ]
  },
  {
   "cell_type": "code",
   "execution_count": 155,
   "id": "94e5c40b-ed38-4f70-9294-cab98f145e18",
   "metadata": {},
   "outputs": [
    {
     "name": "stdout",
     "output_type": "stream",
     "text": [
      "0        2024-12-01\n",
      "1        2024-12-01\n",
      "2        2024-12-01\n",
      "3        2024-12-01\n",
      "4        2024-12-01\n",
      "            ...    \n",
      "298941   2024-12-31\n",
      "298942   2024-12-31\n",
      "298943   2024-12-31\n",
      "298944   2024-12-31\n",
      "298945   2024-12-31\n",
      "Name: date, Length: 298946, dtype: datetime64[ns]\n"
     ]
    }
   ],
   "source": [
    "df['date']=pd.to_datetime(df[['year','month','day']],errors='coerce')\n",
    "print(df['date'])"
   ]
  },
  {
   "cell_type": "code",
   "execution_count": 157,
   "id": "54571fec-7a49-4ec0-9eed-645fa745f726",
   "metadata": {},
   "outputs": [],
   "source": [
    "# https://pandas.pydata.org/docs/reference/api/pandas.DatetimeIndex.dayofweek.html\n",
    "df['day_of_week']=df['date'].dt.dayofweek"
   ]
  },
  {
   "cell_type": "code",
   "execution_count": 159,
   "id": "db51d02f-4db3-4ef1-96a5-667c4579a9de",
   "metadata": {},
   "outputs": [
    {
     "name": "stdout",
     "output_type": "stream",
     "text": [
      "[6 0 1 2 3 4 5]\n"
     ]
    }
   ],
   "source": [
    "print(df['day_of_week'].unique())"
   ]
  },
  {
   "cell_type": "markdown",
   "id": "c568e7af-c454-4a4a-bc6d-0d6d5a53c30d",
   "metadata": {},
   "source": [
    "#### Creating a field `is_weekday` to encode weekdays as `0` and weekends as `1`"
   ]
  },
  {
   "cell_type": "code",
   "execution_count": 162,
   "id": "afe2d6e1-504d-4b26-aac7-b5cc925988c8",
   "metadata": {},
   "outputs": [],
   "source": [
    "df['is_weekday'] = df['day_of_week'].apply(lambda x:0 if x<5 else 1)"
   ]
  },
  {
   "cell_type": "markdown",
   "id": "e5dc3505-8bac-4e2c-b7f5-c9dcc8ebe634",
   "metadata": {},
   "source": [
    "df['is_weekday'].unique()"
   ]
  },
  {
   "cell_type": "markdown",
   "id": "edf0bb86-3063-41b9-85f8-4c0a85842a12",
   "metadata": {},
   "source": [
    "### Feature Selection for the model\n",
    "- The model is fed with features such as `station_id` a location-based feature ,`max_air_temperature_celsius` and `max_relative_humidity_percent` as weather-based features and `Hour_sin`, `Hour_cos`and `is_weekday` as time-based features\n",
    "-  The aim is to create a global model to predict the `availability of bikes`"
   ]
  },
  {
   "cell_type": "markdown",
   "id": "d91f1192-6138-4dfa-94fb-38d1f928015a",
   "metadata": {},
   "source": [
    "### DEFINING FEATURES AND TARGET FOR THE MODEL"
   ]
  },
  {
   "cell_type": "code",
   "execution_count": 195,
   "id": "a08e241b-5ced-4f06-9651-bece7f0edc0b",
   "metadata": {},
   "outputs": [],
   "source": [
    "features=['station_id','max_air_temperature_celsius','max_relative_humidity_percent','Hour_sin','Hour_cos','is_weekday']\n",
    "target='num_bikes_available'\n"
   ]
  },
  {
   "cell_type": "code",
   "execution_count": 197,
   "id": "43fe104a-9c00-438d-870e-7d75983cdd07",
   "metadata": {},
   "outputs": [],
   "source": [
    "X = df[features]\n",
    "y = df[target]"
   ]
  },
  {
   "cell_type": "markdown",
   "id": "411cd893-5d4a-447a-8a3d-f0d9cc82ab1c",
   "metadata": {},
   "source": [
    "#### SPLITTING THE DATA INTO TEST AND TRAINING DATA"
   ]
  },
  {
   "cell_type": "code",
   "execution_count": 170,
   "id": "7be48452-9413-4c15-8104-6bd9187cf141",
   "metadata": {},
   "outputs": [],
   "source": [
    "X_train, X_test, y_train, y_test = train_test_split(X, y, test_size=0.3, random_state=42)"
   ]
  },
  {
   "cell_type": "markdown",
   "id": "086a40d2-57ef-4565-ae84-10e5809079ae",
   "metadata": {},
   "source": [
    "### LINEAR REGRESSION MODEL"
   ]
  },
  {
   "cell_type": "markdown",
   "id": "49559a86-de14-4299-aaa4-5f4e37651f0b",
   "metadata": {},
   "source": [
    "#### Referred from the source code provided in the lectures"
   ]
  },
  {
   "cell_type": "code",
   "execution_count": 201,
   "id": "76a0d0b7-abc0-457d-b9ae-2b38a42babd9",
   "metadata": {},
   "outputs": [
    {
     "data": {
      "text/html": [
       "<style>#sk-container-id-4 {\n",
       "  /* Definition of color scheme common for light and dark mode */\n",
       "  --sklearn-color-text: black;\n",
       "  --sklearn-color-line: gray;\n",
       "  /* Definition of color scheme for unfitted estimators */\n",
       "  --sklearn-color-unfitted-level-0: #fff5e6;\n",
       "  --sklearn-color-unfitted-level-1: #f6e4d2;\n",
       "  --sklearn-color-unfitted-level-2: #ffe0b3;\n",
       "  --sklearn-color-unfitted-level-3: chocolate;\n",
       "  /* Definition of color scheme for fitted estimators */\n",
       "  --sklearn-color-fitted-level-0: #f0f8ff;\n",
       "  --sklearn-color-fitted-level-1: #d4ebff;\n",
       "  --sklearn-color-fitted-level-2: #b3dbfd;\n",
       "  --sklearn-color-fitted-level-3: cornflowerblue;\n",
       "\n",
       "  /* Specific color for light theme */\n",
       "  --sklearn-color-text-on-default-background: var(--sg-text-color, var(--theme-code-foreground, var(--jp-content-font-color1, black)));\n",
       "  --sklearn-color-background: var(--sg-background-color, var(--theme-background, var(--jp-layout-color0, white)));\n",
       "  --sklearn-color-border-box: var(--sg-text-color, var(--theme-code-foreground, var(--jp-content-font-color1, black)));\n",
       "  --sklearn-color-icon: #696969;\n",
       "\n",
       "  @media (prefers-color-scheme: dark) {\n",
       "    /* Redefinition of color scheme for dark theme */\n",
       "    --sklearn-color-text-on-default-background: var(--sg-text-color, var(--theme-code-foreground, var(--jp-content-font-color1, white)));\n",
       "    --sklearn-color-background: var(--sg-background-color, var(--theme-background, var(--jp-layout-color0, #111)));\n",
       "    --sklearn-color-border-box: var(--sg-text-color, var(--theme-code-foreground, var(--jp-content-font-color1, white)));\n",
       "    --sklearn-color-icon: #878787;\n",
       "  }\n",
       "}\n",
       "\n",
       "#sk-container-id-4 {\n",
       "  color: var(--sklearn-color-text);\n",
       "}\n",
       "\n",
       "#sk-container-id-4 pre {\n",
       "  padding: 0;\n",
       "}\n",
       "\n",
       "#sk-container-id-4 input.sk-hidden--visually {\n",
       "  border: 0;\n",
       "  clip: rect(1px 1px 1px 1px);\n",
       "  clip: rect(1px, 1px, 1px, 1px);\n",
       "  height: 1px;\n",
       "  margin: -1px;\n",
       "  overflow: hidden;\n",
       "  padding: 0;\n",
       "  position: absolute;\n",
       "  width: 1px;\n",
       "}\n",
       "\n",
       "#sk-container-id-4 div.sk-dashed-wrapped {\n",
       "  border: 1px dashed var(--sklearn-color-line);\n",
       "  margin: 0 0.4em 0.5em 0.4em;\n",
       "  box-sizing: border-box;\n",
       "  padding-bottom: 0.4em;\n",
       "  background-color: var(--sklearn-color-background);\n",
       "}\n",
       "\n",
       "#sk-container-id-4 div.sk-container {\n",
       "  /* jupyter's `normalize.less` sets `[hidden] { display: none; }`\n",
       "     but bootstrap.min.css set `[hidden] { display: none !important; }`\n",
       "     so we also need the `!important` here to be able to override the\n",
       "     default hidden behavior on the sphinx rendered scikit-learn.org.\n",
       "     See: https://github.com/scikit-learn/scikit-learn/issues/21755 */\n",
       "  display: inline-block !important;\n",
       "  position: relative;\n",
       "}\n",
       "\n",
       "#sk-container-id-4 div.sk-text-repr-fallback {\n",
       "  display: none;\n",
       "}\n",
       "\n",
       "div.sk-parallel-item,\n",
       "div.sk-serial,\n",
       "div.sk-item {\n",
       "  /* draw centered vertical line to link estimators */\n",
       "  background-image: linear-gradient(var(--sklearn-color-text-on-default-background), var(--sklearn-color-text-on-default-background));\n",
       "  background-size: 2px 100%;\n",
       "  background-repeat: no-repeat;\n",
       "  background-position: center center;\n",
       "}\n",
       "\n",
       "/* Parallel-specific style estimator block */\n",
       "\n",
       "#sk-container-id-4 div.sk-parallel-item::after {\n",
       "  content: \"\";\n",
       "  width: 100%;\n",
       "  border-bottom: 2px solid var(--sklearn-color-text-on-default-background);\n",
       "  flex-grow: 1;\n",
       "}\n",
       "\n",
       "#sk-container-id-4 div.sk-parallel {\n",
       "  display: flex;\n",
       "  align-items: stretch;\n",
       "  justify-content: center;\n",
       "  background-color: var(--sklearn-color-background);\n",
       "  position: relative;\n",
       "}\n",
       "\n",
       "#sk-container-id-4 div.sk-parallel-item {\n",
       "  display: flex;\n",
       "  flex-direction: column;\n",
       "}\n",
       "\n",
       "#sk-container-id-4 div.sk-parallel-item:first-child::after {\n",
       "  align-self: flex-end;\n",
       "  width: 50%;\n",
       "}\n",
       "\n",
       "#sk-container-id-4 div.sk-parallel-item:last-child::after {\n",
       "  align-self: flex-start;\n",
       "  width: 50%;\n",
       "}\n",
       "\n",
       "#sk-container-id-4 div.sk-parallel-item:only-child::after {\n",
       "  width: 0;\n",
       "}\n",
       "\n",
       "/* Serial-specific style estimator block */\n",
       "\n",
       "#sk-container-id-4 div.sk-serial {\n",
       "  display: flex;\n",
       "  flex-direction: column;\n",
       "  align-items: center;\n",
       "  background-color: var(--sklearn-color-background);\n",
       "  padding-right: 1em;\n",
       "  padding-left: 1em;\n",
       "}\n",
       "\n",
       "\n",
       "/* Toggleable style: style used for estimator/Pipeline/ColumnTransformer box that is\n",
       "clickable and can be expanded/collapsed.\n",
       "- Pipeline and ColumnTransformer use this feature and define the default style\n",
       "- Estimators will overwrite some part of the style using the `sk-estimator` class\n",
       "*/\n",
       "\n",
       "/* Pipeline and ColumnTransformer style (default) */\n",
       "\n",
       "#sk-container-id-4 div.sk-toggleable {\n",
       "  /* Default theme specific background. It is overwritten whether we have a\n",
       "  specific estimator or a Pipeline/ColumnTransformer */\n",
       "  background-color: var(--sklearn-color-background);\n",
       "}\n",
       "\n",
       "/* Toggleable label */\n",
       "#sk-container-id-4 label.sk-toggleable__label {\n",
       "  cursor: pointer;\n",
       "  display: block;\n",
       "  width: 100%;\n",
       "  margin-bottom: 0;\n",
       "  padding: 0.5em;\n",
       "  box-sizing: border-box;\n",
       "  text-align: center;\n",
       "}\n",
       "\n",
       "#sk-container-id-4 label.sk-toggleable__label-arrow:before {\n",
       "  /* Arrow on the left of the label */\n",
       "  content: \"▸\";\n",
       "  float: left;\n",
       "  margin-right: 0.25em;\n",
       "  color: var(--sklearn-color-icon);\n",
       "}\n",
       "\n",
       "#sk-container-id-4 label.sk-toggleable__label-arrow:hover:before {\n",
       "  color: var(--sklearn-color-text);\n",
       "}\n",
       "\n",
       "/* Toggleable content - dropdown */\n",
       "\n",
       "#sk-container-id-4 div.sk-toggleable__content {\n",
       "  max-height: 0;\n",
       "  max-width: 0;\n",
       "  overflow: hidden;\n",
       "  text-align: left;\n",
       "  /* unfitted */\n",
       "  background-color: var(--sklearn-color-unfitted-level-0);\n",
       "}\n",
       "\n",
       "#sk-container-id-4 div.sk-toggleable__content.fitted {\n",
       "  /* fitted */\n",
       "  background-color: var(--sklearn-color-fitted-level-0);\n",
       "}\n",
       "\n",
       "#sk-container-id-4 div.sk-toggleable__content pre {\n",
       "  margin: 0.2em;\n",
       "  border-radius: 0.25em;\n",
       "  color: var(--sklearn-color-text);\n",
       "  /* unfitted */\n",
       "  background-color: var(--sklearn-color-unfitted-level-0);\n",
       "}\n",
       "\n",
       "#sk-container-id-4 div.sk-toggleable__content.fitted pre {\n",
       "  /* unfitted */\n",
       "  background-color: var(--sklearn-color-fitted-level-0);\n",
       "}\n",
       "\n",
       "#sk-container-id-4 input.sk-toggleable__control:checked~div.sk-toggleable__content {\n",
       "  /* Expand drop-down */\n",
       "  max-height: 200px;\n",
       "  max-width: 100%;\n",
       "  overflow: auto;\n",
       "}\n",
       "\n",
       "#sk-container-id-4 input.sk-toggleable__control:checked~label.sk-toggleable__label-arrow:before {\n",
       "  content: \"▾\";\n",
       "}\n",
       "\n",
       "/* Pipeline/ColumnTransformer-specific style */\n",
       "\n",
       "#sk-container-id-4 div.sk-label input.sk-toggleable__control:checked~label.sk-toggleable__label {\n",
       "  color: var(--sklearn-color-text);\n",
       "  background-color: var(--sklearn-color-unfitted-level-2);\n",
       "}\n",
       "\n",
       "#sk-container-id-4 div.sk-label.fitted input.sk-toggleable__control:checked~label.sk-toggleable__label {\n",
       "  background-color: var(--sklearn-color-fitted-level-2);\n",
       "}\n",
       "\n",
       "/* Estimator-specific style */\n",
       "\n",
       "/* Colorize estimator box */\n",
       "#sk-container-id-4 div.sk-estimator input.sk-toggleable__control:checked~label.sk-toggleable__label {\n",
       "  /* unfitted */\n",
       "  background-color: var(--sklearn-color-unfitted-level-2);\n",
       "}\n",
       "\n",
       "#sk-container-id-4 div.sk-estimator.fitted input.sk-toggleable__control:checked~label.sk-toggleable__label {\n",
       "  /* fitted */\n",
       "  background-color: var(--sklearn-color-fitted-level-2);\n",
       "}\n",
       "\n",
       "#sk-container-id-4 div.sk-label label.sk-toggleable__label,\n",
       "#sk-container-id-4 div.sk-label label {\n",
       "  /* The background is the default theme color */\n",
       "  color: var(--sklearn-color-text-on-default-background);\n",
       "}\n",
       "\n",
       "/* On hover, darken the color of the background */\n",
       "#sk-container-id-4 div.sk-label:hover label.sk-toggleable__label {\n",
       "  color: var(--sklearn-color-text);\n",
       "  background-color: var(--sklearn-color-unfitted-level-2);\n",
       "}\n",
       "\n",
       "/* Label box, darken color on hover, fitted */\n",
       "#sk-container-id-4 div.sk-label.fitted:hover label.sk-toggleable__label.fitted {\n",
       "  color: var(--sklearn-color-text);\n",
       "  background-color: var(--sklearn-color-fitted-level-2);\n",
       "}\n",
       "\n",
       "/* Estimator label */\n",
       "\n",
       "#sk-container-id-4 div.sk-label label {\n",
       "  font-family: monospace;\n",
       "  font-weight: bold;\n",
       "  display: inline-block;\n",
       "  line-height: 1.2em;\n",
       "}\n",
       "\n",
       "#sk-container-id-4 div.sk-label-container {\n",
       "  text-align: center;\n",
       "}\n",
       "\n",
       "/* Estimator-specific */\n",
       "#sk-container-id-4 div.sk-estimator {\n",
       "  font-family: monospace;\n",
       "  border: 1px dotted var(--sklearn-color-border-box);\n",
       "  border-radius: 0.25em;\n",
       "  box-sizing: border-box;\n",
       "  margin-bottom: 0.5em;\n",
       "  /* unfitted */\n",
       "  background-color: var(--sklearn-color-unfitted-level-0);\n",
       "}\n",
       "\n",
       "#sk-container-id-4 div.sk-estimator.fitted {\n",
       "  /* fitted */\n",
       "  background-color: var(--sklearn-color-fitted-level-0);\n",
       "}\n",
       "\n",
       "/* on hover */\n",
       "#sk-container-id-4 div.sk-estimator:hover {\n",
       "  /* unfitted */\n",
       "  background-color: var(--sklearn-color-unfitted-level-2);\n",
       "}\n",
       "\n",
       "#sk-container-id-4 div.sk-estimator.fitted:hover {\n",
       "  /* fitted */\n",
       "  background-color: var(--sklearn-color-fitted-level-2);\n",
       "}\n",
       "\n",
       "/* Specification for estimator info (e.g. \"i\" and \"?\") */\n",
       "\n",
       "/* Common style for \"i\" and \"?\" */\n",
       "\n",
       ".sk-estimator-doc-link,\n",
       "a:link.sk-estimator-doc-link,\n",
       "a:visited.sk-estimator-doc-link {\n",
       "  float: right;\n",
       "  font-size: smaller;\n",
       "  line-height: 1em;\n",
       "  font-family: monospace;\n",
       "  background-color: var(--sklearn-color-background);\n",
       "  border-radius: 1em;\n",
       "  height: 1em;\n",
       "  width: 1em;\n",
       "  text-decoration: none !important;\n",
       "  margin-left: 1ex;\n",
       "  /* unfitted */\n",
       "  border: var(--sklearn-color-unfitted-level-1) 1pt solid;\n",
       "  color: var(--sklearn-color-unfitted-level-1);\n",
       "}\n",
       "\n",
       ".sk-estimator-doc-link.fitted,\n",
       "a:link.sk-estimator-doc-link.fitted,\n",
       "a:visited.sk-estimator-doc-link.fitted {\n",
       "  /* fitted */\n",
       "  border: var(--sklearn-color-fitted-level-1) 1pt solid;\n",
       "  color: var(--sklearn-color-fitted-level-1);\n",
       "}\n",
       "\n",
       "/* On hover */\n",
       "div.sk-estimator:hover .sk-estimator-doc-link:hover,\n",
       ".sk-estimator-doc-link:hover,\n",
       "div.sk-label-container:hover .sk-estimator-doc-link:hover,\n",
       ".sk-estimator-doc-link:hover {\n",
       "  /* unfitted */\n",
       "  background-color: var(--sklearn-color-unfitted-level-3);\n",
       "  color: var(--sklearn-color-background);\n",
       "  text-decoration: none;\n",
       "}\n",
       "\n",
       "div.sk-estimator.fitted:hover .sk-estimator-doc-link.fitted:hover,\n",
       ".sk-estimator-doc-link.fitted:hover,\n",
       "div.sk-label-container:hover .sk-estimator-doc-link.fitted:hover,\n",
       ".sk-estimator-doc-link.fitted:hover {\n",
       "  /* fitted */\n",
       "  background-color: var(--sklearn-color-fitted-level-3);\n",
       "  color: var(--sklearn-color-background);\n",
       "  text-decoration: none;\n",
       "}\n",
       "\n",
       "/* Span, style for the box shown on hovering the info icon */\n",
       ".sk-estimator-doc-link span {\n",
       "  display: none;\n",
       "  z-index: 9999;\n",
       "  position: relative;\n",
       "  font-weight: normal;\n",
       "  right: .2ex;\n",
       "  padding: .5ex;\n",
       "  margin: .5ex;\n",
       "  width: min-content;\n",
       "  min-width: 20ex;\n",
       "  max-width: 50ex;\n",
       "  color: var(--sklearn-color-text);\n",
       "  box-shadow: 2pt 2pt 4pt #999;\n",
       "  /* unfitted */\n",
       "  background: var(--sklearn-color-unfitted-level-0);\n",
       "  border: .5pt solid var(--sklearn-color-unfitted-level-3);\n",
       "}\n",
       "\n",
       ".sk-estimator-doc-link.fitted span {\n",
       "  /* fitted */\n",
       "  background: var(--sklearn-color-fitted-level-0);\n",
       "  border: var(--sklearn-color-fitted-level-3);\n",
       "}\n",
       "\n",
       ".sk-estimator-doc-link:hover span {\n",
       "  display: block;\n",
       "}\n",
       "\n",
       "/* \"?\"-specific style due to the `<a>` HTML tag */\n",
       "\n",
       "#sk-container-id-4 a.estimator_doc_link {\n",
       "  float: right;\n",
       "  font-size: 1rem;\n",
       "  line-height: 1em;\n",
       "  font-family: monospace;\n",
       "  background-color: var(--sklearn-color-background);\n",
       "  border-radius: 1rem;\n",
       "  height: 1rem;\n",
       "  width: 1rem;\n",
       "  text-decoration: none;\n",
       "  /* unfitted */\n",
       "  color: var(--sklearn-color-unfitted-level-1);\n",
       "  border: var(--sklearn-color-unfitted-level-1) 1pt solid;\n",
       "}\n",
       "\n",
       "#sk-container-id-4 a.estimator_doc_link.fitted {\n",
       "  /* fitted */\n",
       "  border: var(--sklearn-color-fitted-level-1) 1pt solid;\n",
       "  color: var(--sklearn-color-fitted-level-1);\n",
       "}\n",
       "\n",
       "/* On hover */\n",
       "#sk-container-id-4 a.estimator_doc_link:hover {\n",
       "  /* unfitted */\n",
       "  background-color: var(--sklearn-color-unfitted-level-3);\n",
       "  color: var(--sklearn-color-background);\n",
       "  text-decoration: none;\n",
       "}\n",
       "\n",
       "#sk-container-id-4 a.estimator_doc_link.fitted:hover {\n",
       "  /* fitted */\n",
       "  background-color: var(--sklearn-color-fitted-level-3);\n",
       "}\n",
       "</style><div id=\"sk-container-id-4\" class=\"sk-top-container\"><div class=\"sk-text-repr-fallback\"><pre>LinearRegression()</pre><b>In a Jupyter environment, please rerun this cell to show the HTML representation or trust the notebook. <br />On GitHub, the HTML representation is unable to render, please try loading this page with nbviewer.org.</b></div><div class=\"sk-container\" hidden><div class=\"sk-item\"><div class=\"sk-estimator fitted sk-toggleable\"><input class=\"sk-toggleable__control sk-hidden--visually\" id=\"sk-estimator-id-4\" type=\"checkbox\" checked><label for=\"sk-estimator-id-4\" class=\"sk-toggleable__label fitted sk-toggleable__label-arrow fitted\">&nbsp;&nbsp;LinearRegression<a class=\"sk-estimator-doc-link fitted\" rel=\"noreferrer\" target=\"_blank\" href=\"https://scikit-learn.org/1.4/modules/generated/sklearn.linear_model.LinearRegression.html\">?<span>Documentation for LinearRegression</span></a><span class=\"sk-estimator-doc-link fitted\">i<span>Fitted</span></span></label><div class=\"sk-toggleable__content fitted\"><pre>LinearRegression()</pre></div> </div></div></div></div>"
      ],
      "text/plain": [
       "LinearRegression()"
      ]
     },
     "execution_count": 201,
     "metadata": {},
     "output_type": "execute_result"
    }
   ],
   "source": [
    "model = LinearRegression()\n",
    "model.fit(X_train, y_train)"
   ]
  },
  {
   "cell_type": "code",
   "execution_count": 203,
   "id": "6db70853-020e-446c-a19f-f9e17f15075c",
   "metadata": {},
   "outputs": [],
   "source": [
    "y_pred = model.predict(X_test)"
   ]
  },
  {
   "cell_type": "code",
   "execution_count": 205,
   "id": "bee418ea-5fb1-47ff-a036-87732daaed82",
   "metadata": {},
   "outputs": [
    {
     "name": "stdout",
     "output_type": "stream",
     "text": [
      "Mean Absolute Error: 8.143639345584965\n",
      "R² Score: 0.0003843833144947517\n"
     ]
    }
   ],
   "source": [
    "mae = mean_absolute_error(y_test, y_pred)\n",
    "r2 = r2_score(y_test, y_pred)\n",
    "print(f\"Mean Absolute Error: {mae}\")\n",
    "print(f\"R² Score: {r2}\")"
   ]
  },
  {
   "cell_type": "code",
   "execution_count": 207,
   "id": "f8157211-9bc3-4c45-a1bf-0fe192a6c092",
   "metadata": {},
   "outputs": [
    {
     "name": "stdout",
     "output_type": "stream",
     "text": [
      "\n",
      "Model Coefficients:\n",
      "station_id: -0.0001796111048468674\n",
      "max_air_temperature_celsius: 0.015243035627137745\n",
      "max_relative_humidity_percent: 0.007677486926593067\n",
      "Hour_sin: 0.045566526473427585\n",
      "Hour_cos: 0.2838383918796009\n",
      "is_weekday: 0.2151610266791098\n",
      "Intercept: 11.445657288038356\n"
     ]
    }
   ],
   "source": [
    "print(\"\\nModel Coefficients:\")\n",
    "for feature, coef in zip(features, model.coef_):\n",
    "    print(f\"{feature}: {coef}\")\n",
    "print(f\"Intercept: {model.intercept_}\")"
   ]
  },
  {
   "cell_type": "code",
   "execution_count": 209,
   "id": "3cd056b3-ade5-40fa-869f-b4a1e0605bb6",
   "metadata": {},
   "outputs": [
    {
     "data": {
      "text/plain": [
       "['bike_availability_model.joblib']"
      ]
     },
     "execution_count": 209,
     "metadata": {},
     "output_type": "execute_result"
    }
   ],
   "source": [
    "model_filename = \"bike_availability_model.joblib\"\n",
    "joblib.dump(model, model_filename)"
   ]
  },
  {
   "cell_type": "code",
   "execution_count": 211,
   "id": "41ea6c89-ba9a-4795-be8b-82055c6a5ad1",
   "metadata": {},
   "outputs": [
    {
     "name": "stdout",
     "output_type": "stream",
     "text": [
      "Model saved to bike_availability_model.joblib\n",
      "Model saved to bike_availability_model.pkl\n"
     ]
    }
   ],
   "source": [
    "print(f\"Model saved to {model_filename}\")\n",
    "model_filename = \"bike_availability_model.pkl\"\n",
    "with open(model_filename, \"wb\") as file:\n",
    "    pickle.dump(model, file)\n",
    "\n",
    "print(f\"Model saved to {model_filename}\")"
   ]
  },
  {
   "cell_type": "markdown",
   "id": "88428502-c662-4e1a-9ad5-7d675180d846",
   "metadata": {},
   "source": [
    "### Analysis of the model so far\n",
    "- The r2 score is near to 0 and mean absolute error is very large\n",
    "- The model doesnt seem to be a good fit for predicting `availability of bikes`\n",
    "- Therefore also testing the random forest regressor model"
   ]
  },
  {
   "cell_type": "markdown",
   "id": "ce1c4f4b-cdeb-4532-b09e-c12a18b6e3ad",
   "metadata": {},
   "source": [
    "### RANDOM FOREST REGRESSOR MODEL"
   ]
  },
  {
   "cell_type": "code",
   "execution_count": 217,
   "id": "41928d7a-0065-4ee8-b81c-06d234eeeaba",
   "metadata": {},
   "outputs": [
    {
     "data": {
      "text/plain": [
       "0.8682956358985312"
      ]
     },
     "execution_count": 217,
     "metadata": {},
     "output_type": "execute_result"
    }
   ],
   "source": [
    "regressor = RandomForestRegressor(n_estimators=100,random_state=0)\n",
    "regressor = regressor.fit(X_train, y_train)\n",
    "score = regressor.score( X_test,y_test)\n",
    "score"
   ]
  },
  {
   "cell_type": "code",
   "execution_count": 220,
   "id": "4dd3c8aa-47fb-4309-b20b-07608846cbf7",
   "metadata": {},
   "outputs": [
    {
     "name": "stdout",
     "output_type": "stream",
     "text": [
      "MAE: 2.075444812845526, R²: 0.8682956358985312\n",
      "station_id: 0.3982683511759866\n",
      "max_air_temperature_celsius: 0.21825668316892174\n",
      "max_relative_humidity_percent: 0.16886898528210983\n",
      "Hour_sin: 0.06662066649970703\n",
      "Hour_cos: 0.08651168061151267\n",
      "is_weekday: 0.06147363326176229\n"
     ]
    }
   ],
   "source": [
    "y_pred_rf = regressor.predict(X_test)\n",
    "mac = mean_absolute_error(y_test, y_pred_rf)\n",
    "r2 = r2_score(y_test, y_pred_rf)\n",
    "print(f\"MAE: {mac}, R²: {r2}\")\n",
    "\n",
    "# Feature importances:\n",
    "importances = regressor.feature_importances_\n",
    "for feature, imp in zip(features, importances):\n",
    "    print(f\"{feature}: {imp}\")"
   ]
  },
  {
   "cell_type": "code",
   "execution_count": 222,
   "id": "8d4150bb-4984-48cb-9d02-afb91ce68a68",
   "metadata": {},
   "outputs": [
    {
     "name": "stdout",
     "output_type": "stream",
     "text": [
      "                         Feature  Gini Importance\n",
      "0                     station_id         0.398268\n",
      "1    max_air_temperature_celsius         0.218257\n",
      "2  max_relative_humidity_percent         0.168869\n",
      "4                       Hour_cos         0.086512\n",
      "3                       Hour_sin         0.066621\n",
      "5                     is_weekday         0.061474\n"
     ]
    }
   ],
   "source": [
    "importances = regressor.feature_importances_\n",
    "feature_imp_df = pd.DataFrame({'Feature': features, 'Gini Importance': importances}).sort_values('Gini Importance', ascending=False) \n",
    "print(feature_imp_df)\n"
   ]
  },
  {
   "cell_type": "markdown",
   "id": "8538ee0b-07bd-4c56-bd34-5df2759f754f",
   "metadata": {},
   "source": [
    "### Analysis of Random Forest Regressor\n",
    "- The r2 score is : `0.86`and mae value is `2.07 ` which says that this model is a good fit comparing to the linear regressor model\n",
    "- Better fit than linear regression\n"
   ]
  },
  {
   "cell_type": "code",
   "execution_count": 233,
   "id": "1fd54a92-be7d-40d9-aa8c-d02b6ded522b",
   "metadata": {},
   "outputs": [
    {
     "name": "stdout",
     "output_type": "stream",
     "text": [
      "Model saved to number_of_bikes_available_model.joblib\n",
      "Model saved to number_of_bikes_available_model.joblib\n"
     ]
    }
   ],
   "source": [
    "model_filename = \"number_of_bikes_available_model.joblib\"\n",
    "joblib.dump(model, model_filename)\n",
    "print(f\"Model saved to {model_filename}\")\n"
   ]
  },
  {
   "cell_type": "code",
   "execution_count": 237,
   "id": "01559ef8-8a24-44ad-9bf5-c3131792ba3a",
   "metadata": {},
   "outputs": [
    {
     "name": "stdout",
     "output_type": "stream",
     "text": [
      "Model saved to number_of_bikes_available_model.pkl\n"
     ]
    }
   ],
   "source": [
    "model_filename = \"number_of_bikes_available_model.pkl\"\n",
    "with open(model_filename, \"wb\") as file:\n",
    "    pickle.dump(model, file)\n",
    "\n",
    "print(f\"Model saved to {model_filename}\")"
   ]
  },
  {
   "cell_type": "code",
   "execution_count": null,
   "id": "4e6f8f0a-1ac9-4169-8e9a-a3d7f44a2f57",
   "metadata": {},
   "outputs": [],
   "source": []
  }
 ],
 "metadata": {
  "kernelspec": {
   "display_name": "Python 3 (ipykernel)",
   "language": "python",
   "name": "python3"
  },
  "language_info": {
   "codemirror_mode": {
    "name": "ipython",
    "version": 3
   },
   "file_extension": ".py",
   "mimetype": "text/x-python",
   "name": "python",
   "nbconvert_exporter": "python",
   "pygments_lexer": "ipython3",
   "version": "3.12.4"
  }
 },
 "nbformat": 4,
 "nbformat_minor": 5
}
